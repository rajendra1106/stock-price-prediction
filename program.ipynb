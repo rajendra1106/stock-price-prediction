{
  "nbformat": 4,
  "nbformat_minor": 0,
  "metadata": {
    "colab": {
      "provenance": [],
      "mount_file_id": "19onT5e6IusY2YUF_WsmQVEvmsW5Y07YJ",
      "authorship_tag": "ABX9TyOZ+FCZavoCbqxpVwDN7kSs",
      "include_colab_link": true
    },
    "kernelspec": {
      "name": "python3",
      "display_name": "Python 3"
    },
    "language_info": {
      "name": "python"
    }
  },
  "cells": [
    {
      "cell_type": "markdown",
      "metadata": {
        "id": "view-in-github",
        "colab_type": "text"
      },
      "source": [
        "<a href=\"https://colab.research.google.com/github/rajendra1106/stock-price-prediction/blob/main/program.ipynb\" target=\"_parent\"><img src=\"https://colab.research.google.com/assets/colab-badge.svg\" alt=\"Open In Colab\"/></a>"
      ]
    },
    {
      "cell_type": "code",
      "execution_count": 55,
      "metadata": {
        "id": "fjuQ7t93q00g"
      },
      "outputs": [],
      "source": [
        "import pandas as pd\n",
        "import numpy as np\n",
        "from sklearn.metrics import mean_squared_error\n",
        "from sklearn.linear_model import LinearRegression\n",
        "from sklearn.neighbors import KNeighborsRegressor\n",
        "from statsmodels.tsa.arima.model import ARIMA\n",
        "from tensorflow.keras.models import Sequential\n",
        "from tensorflow.keras.layers import LSTM, Dense\n",
        "from sklearn.preprocessing import MinMaxScaler\n"
      ]
    },
    {
      "cell_type": "code",
      "source": [
        "from google.colab import files\n",
        "\n",
        "\n",
        "uploaded = files.upload()\n"
      ],
      "metadata": {
        "colab": {
          "base_uri": "https://localhost:8080/",
          "height": 73
        },
        "id": "qe8bqr0-repm",
        "outputId": "91ff7cec-38f1-4082-89c5-cf71f4165de1"
      },
      "execution_count": 30,
      "outputs": [
        {
          "output_type": "display_data",
          "data": {
            "text/plain": [
              "<IPython.core.display.HTML object>"
            ],
            "text/html": [
              "\n",
              "     <input type=\"file\" id=\"files-28896eb8-4cc6-4e1b-beef-c99ff366195f\" name=\"files[]\" multiple disabled\n",
              "        style=\"border:none\" />\n",
              "     <output id=\"result-28896eb8-4cc6-4e1b-beef-c99ff366195f\">\n",
              "      Upload widget is only available when the cell has been executed in the\n",
              "      current browser session. Please rerun this cell to enable.\n",
              "      </output>\n",
              "      <script>// Copyright 2017 Google LLC\n",
              "//\n",
              "// Licensed under the Apache License, Version 2.0 (the \"License\");\n",
              "// you may not use this file except in compliance with the License.\n",
              "// You may obtain a copy of the License at\n",
              "//\n",
              "//      http://www.apache.org/licenses/LICENSE-2.0\n",
              "//\n",
              "// Unless required by applicable law or agreed to in writing, software\n",
              "// distributed under the License is distributed on an \"AS IS\" BASIS,\n",
              "// WITHOUT WARRANTIES OR CONDITIONS OF ANY KIND, either express or implied.\n",
              "// See the License for the specific language governing permissions and\n",
              "// limitations under the License.\n",
              "\n",
              "/**\n",
              " * @fileoverview Helpers for google.colab Python module.\n",
              " */\n",
              "(function(scope) {\n",
              "function span(text, styleAttributes = {}) {\n",
              "  const element = document.createElement('span');\n",
              "  element.textContent = text;\n",
              "  for (const key of Object.keys(styleAttributes)) {\n",
              "    element.style[key] = styleAttributes[key];\n",
              "  }\n",
              "  return element;\n",
              "}\n",
              "\n",
              "// Max number of bytes which will be uploaded at a time.\n",
              "const MAX_PAYLOAD_SIZE = 100 * 1024;\n",
              "\n",
              "function _uploadFiles(inputId, outputId) {\n",
              "  const steps = uploadFilesStep(inputId, outputId);\n",
              "  const outputElement = document.getElementById(outputId);\n",
              "  // Cache steps on the outputElement to make it available for the next call\n",
              "  // to uploadFilesContinue from Python.\n",
              "  outputElement.steps = steps;\n",
              "\n",
              "  return _uploadFilesContinue(outputId);\n",
              "}\n",
              "\n",
              "// This is roughly an async generator (not supported in the browser yet),\n",
              "// where there are multiple asynchronous steps and the Python side is going\n",
              "// to poll for completion of each step.\n",
              "// This uses a Promise to block the python side on completion of each step,\n",
              "// then passes the result of the previous step as the input to the next step.\n",
              "function _uploadFilesContinue(outputId) {\n",
              "  const outputElement = document.getElementById(outputId);\n",
              "  const steps = outputElement.steps;\n",
              "\n",
              "  const next = steps.next(outputElement.lastPromiseValue);\n",
              "  return Promise.resolve(next.value.promise).then((value) => {\n",
              "    // Cache the last promise value to make it available to the next\n",
              "    // step of the generator.\n",
              "    outputElement.lastPromiseValue = value;\n",
              "    return next.value.response;\n",
              "  });\n",
              "}\n",
              "\n",
              "/**\n",
              " * Generator function which is called between each async step of the upload\n",
              " * process.\n",
              " * @param {string} inputId Element ID of the input file picker element.\n",
              " * @param {string} outputId Element ID of the output display.\n",
              " * @return {!Iterable<!Object>} Iterable of next steps.\n",
              " */\n",
              "function* uploadFilesStep(inputId, outputId) {\n",
              "  const inputElement = document.getElementById(inputId);\n",
              "  inputElement.disabled = false;\n",
              "\n",
              "  const outputElement = document.getElementById(outputId);\n",
              "  outputElement.innerHTML = '';\n",
              "\n",
              "  const pickedPromise = new Promise((resolve) => {\n",
              "    inputElement.addEventListener('change', (e) => {\n",
              "      resolve(e.target.files);\n",
              "    });\n",
              "  });\n",
              "\n",
              "  const cancel = document.createElement('button');\n",
              "  inputElement.parentElement.appendChild(cancel);\n",
              "  cancel.textContent = 'Cancel upload';\n",
              "  const cancelPromise = new Promise((resolve) => {\n",
              "    cancel.onclick = () => {\n",
              "      resolve(null);\n",
              "    };\n",
              "  });\n",
              "\n",
              "  // Wait for the user to pick the files.\n",
              "  const files = yield {\n",
              "    promise: Promise.race([pickedPromise, cancelPromise]),\n",
              "    response: {\n",
              "      action: 'starting',\n",
              "    }\n",
              "  };\n",
              "\n",
              "  cancel.remove();\n",
              "\n",
              "  // Disable the input element since further picks are not allowed.\n",
              "  inputElement.disabled = true;\n",
              "\n",
              "  if (!files) {\n",
              "    return {\n",
              "      response: {\n",
              "        action: 'complete',\n",
              "      }\n",
              "    };\n",
              "  }\n",
              "\n",
              "  for (const file of files) {\n",
              "    const li = document.createElement('li');\n",
              "    li.append(span(file.name, {fontWeight: 'bold'}));\n",
              "    li.append(span(\n",
              "        `(${file.type || 'n/a'}) - ${file.size} bytes, ` +\n",
              "        `last modified: ${\n",
              "            file.lastModifiedDate ? file.lastModifiedDate.toLocaleDateString() :\n",
              "                                    'n/a'} - `));\n",
              "    const percent = span('0% done');\n",
              "    li.appendChild(percent);\n",
              "\n",
              "    outputElement.appendChild(li);\n",
              "\n",
              "    const fileDataPromise = new Promise((resolve) => {\n",
              "      const reader = new FileReader();\n",
              "      reader.onload = (e) => {\n",
              "        resolve(e.target.result);\n",
              "      };\n",
              "      reader.readAsArrayBuffer(file);\n",
              "    });\n",
              "    // Wait for the data to be ready.\n",
              "    let fileData = yield {\n",
              "      promise: fileDataPromise,\n",
              "      response: {\n",
              "        action: 'continue',\n",
              "      }\n",
              "    };\n",
              "\n",
              "    // Use a chunked sending to avoid message size limits. See b/62115660.\n",
              "    let position = 0;\n",
              "    do {\n",
              "      const length = Math.min(fileData.byteLength - position, MAX_PAYLOAD_SIZE);\n",
              "      const chunk = new Uint8Array(fileData, position, length);\n",
              "      position += length;\n",
              "\n",
              "      const base64 = btoa(String.fromCharCode.apply(null, chunk));\n",
              "      yield {\n",
              "        response: {\n",
              "          action: 'append',\n",
              "          file: file.name,\n",
              "          data: base64,\n",
              "        },\n",
              "      };\n",
              "\n",
              "      let percentDone = fileData.byteLength === 0 ?\n",
              "          100 :\n",
              "          Math.round((position / fileData.byteLength) * 100);\n",
              "      percent.textContent = `${percentDone}% done`;\n",
              "\n",
              "    } while (position < fileData.byteLength);\n",
              "  }\n",
              "\n",
              "  // All done.\n",
              "  yield {\n",
              "    response: {\n",
              "      action: 'complete',\n",
              "    }\n",
              "  };\n",
              "}\n",
              "\n",
              "scope.google = scope.google || {};\n",
              "scope.google.colab = scope.google.colab || {};\n",
              "scope.google.colab._files = {\n",
              "  _uploadFiles,\n",
              "  _uploadFilesContinue,\n",
              "};\n",
              "})(self);\n",
              "</script> "
            ]
          },
          "metadata": {}
        },
        {
          "output_type": "stream",
          "name": "stdout",
          "text": [
            "Saving NSE-TATAGLOBAL11.csv to NSE-TATAGLOBAL11.csv\n"
          ]
        }
      ]
    },
    {
      "cell_type": "code",
      "source": [
        "df = pd.read_csv('NSE-TATAGLOBAL11.csv')\n",
        "df['Date'] = pd.to_datetime(df['Date'])\n",
        "df = df.set_index('Date')"
      ],
      "metadata": {
        "id": "_aa31jcdxjL0"
      },
      "execution_count": 56,
      "outputs": []
    },
    {
      "cell_type": "code",
      "source": [
        "train_size = int(len(df) * 0.8)\n",
        "train_data, test_data = df[:train_size], df[train_size:]"
      ],
      "metadata": {
        "id": "HPu_WH6exq9X"
      },
      "execution_count": 57,
      "outputs": []
    },
    {
      "cell_type": "code",
      "source": [
        "window = 5\n",
        "ma_predictions = df['Close'].rolling(window=window).mean().iloc[window:].values"
      ],
      "metadata": {
        "id": "de9ko7Rwxxpz"
      },
      "execution_count": 58,
      "outputs": []
    },
    {
      "cell_type": "code",
      "source": [
        "regression_model = LinearRegression()\n",
        "regression_model.fit(pd.Series(range(len(train_data))).values.reshape(-1, 1), train_data['Close'].values.reshape(-1, 1))\n",
        "lr_predictions = regression_model.predict(pd.Series(range(len(df))).values.reshape(-1, 1)).flatten()"
      ],
      "metadata": {
        "id": "GqzXfHjTx12F"
      },
      "execution_count": 59,
      "outputs": []
    },
    {
      "cell_type": "code",
      "source": [
        "knn_model = KNeighborsRegressor(n_neighbors=5)\n",
        "knn_model.fit(pd.Series(range(len(train_data))).values.reshape(-1, 1), train_data['Close'].values.reshape(-1, 1))\n",
        "knn_predictions = knn_model.predict(pd.Series(range(len(df))).values.reshape(-1, 1)).flatten()"
      ],
      "metadata": {
        "id": "I7NRA5cyyf7r"
      },
      "execution_count": 60,
      "outputs": []
    },
    {
      "cell_type": "code",
      "source": [
        "arima_model = ARIMA(train_data['Close'].values, order=(1, 1, 1))\n",
        "arima_model_fit = arima_model.fit()\n",
        "arima_predictions = arima_model_fit.predict(start=len(train_data), end=len(df)-1, typ='levels')"
      ],
      "metadata": {
        "colab": {
          "base_uri": "https://localhost:8080/"
        },
        "id": "qwILHRj8yjNe",
        "outputId": "cffab9e9-a99f-460d-b7d5-157059c90c49"
      },
      "execution_count": 61,
      "outputs": [
        {
          "output_type": "stream",
          "name": "stderr",
          "text": [
            "/usr/local/lib/python3.10/dist-packages/statsmodels/tsa/statespace/sarimax.py:966: UserWarning: Non-stationary starting autoregressive parameters found. Using zeros as starting parameters.\n",
            "  warn('Non-stationary starting autoregressive parameters'\n",
            "/usr/local/lib/python3.10/dist-packages/statsmodels/tsa/statespace/sarimax.py:978: UserWarning: Non-invertible starting MA parameters found. Using zeros as starting parameters.\n",
            "  warn('Non-invertible starting MA parameters found.'\n"
          ]
        }
      ]
    },
    {
      "cell_type": "code",
      "source": [
        "scaler = MinMaxScaler(feature_range=(0, 1))\n",
        "scaled_data = scaler.fit_transform(df['Close'].values.reshape(-1, 1))\n",
        "train_X, train_y = [], []\n",
        "for i in range(window, len(train_data)):\n",
        "    train_X.append(scaled_data[i-window:i, 0])\n",
        "    train_y.append(scaled_data[i, 0])\n",
        "train_X, train_y = np.array(train_X), np.array(train_y)\n",
        "train_X = np.reshape(train_X, (train_X.shape[0], train_X.shape[1], 1))\n",
        "\n",
        "lstm_model = Sequential()\n",
        "lstm_model.add(LSTM(units=50, return_sequences=True, input_shape=(train_X.shape[1], 1)))\n",
        "lstm_model.add(LSTM(units=50))\n",
        "lstm_model.add(Dense(units=1))\n",
        "lstm_model.compile(optimizer='adam', loss='mean_squared_error')\n",
        "lstm_model.fit(train_X, train_y, epochs=50, batch_size=32)\n",
        "\n",
        "lstm_inputs = scaled_data[len(df)-window:, 0]\n",
        "lstm_inputs = np.reshape(lstm_inputs, (1, window, 1))\n",
        "lstm_predictions = lstm_model.predict(lstm_inputs)\n",
        "lstm_predictions = scaler.inverse_transform(lstm_predictions).flatten()"
      ],
      "metadata": {
        "colab": {
          "base_uri": "https://localhost:8080/"
        },
        "id": "Da86-T-NymRC",
        "outputId": "5ce43b53-93af-49d0-e42d-1330bc51c889"
      },
      "execution_count": 64,
      "outputs": [
        {
          "output_type": "stream",
          "name": "stdout",
          "text": [
            "Epoch 1/50\n",
            "31/31 [==============================] - 5s 8ms/step - loss: 0.0418\n",
            "Epoch 2/50\n",
            "31/31 [==============================] - 0s 8ms/step - loss: 0.0025\n",
            "Epoch 3/50\n",
            "31/31 [==============================] - 0s 8ms/step - loss: 9.1968e-04\n",
            "Epoch 4/50\n",
            "31/31 [==============================] - 0s 8ms/step - loss: 8.5449e-04\n",
            "Epoch 5/50\n",
            "31/31 [==============================] - 0s 9ms/step - loss: 8.3627e-04\n",
            "Epoch 6/50\n",
            "31/31 [==============================] - 0s 8ms/step - loss: 8.5369e-04\n",
            "Epoch 7/50\n",
            "31/31 [==============================] - 0s 8ms/step - loss: 8.2417e-04\n",
            "Epoch 8/50\n",
            "31/31 [==============================] - 0s 8ms/step - loss: 9.1766e-04\n",
            "Epoch 9/50\n",
            "31/31 [==============================] - 0s 9ms/step - loss: 8.7564e-04\n",
            "Epoch 10/50\n",
            "31/31 [==============================] - 0s 11ms/step - loss: 8.1730e-04\n",
            "Epoch 11/50\n",
            "31/31 [==============================] - 0s 13ms/step - loss: 8.2660e-04\n",
            "Epoch 12/50\n",
            "31/31 [==============================] - 0s 14ms/step - loss: 8.1566e-04\n",
            "Epoch 13/50\n",
            "31/31 [==============================] - 0s 13ms/step - loss: 8.3719e-04\n",
            "Epoch 14/50\n",
            "31/31 [==============================] - 0s 13ms/step - loss: 8.1032e-04\n",
            "Epoch 15/50\n",
            "31/31 [==============================] - 0s 13ms/step - loss: 7.7214e-04\n",
            "Epoch 16/50\n",
            "31/31 [==============================] - 0s 13ms/step - loss: 7.8996e-04\n",
            "Epoch 17/50\n",
            "31/31 [==============================] - 0s 13ms/step - loss: 8.7031e-04\n",
            "Epoch 18/50\n",
            "31/31 [==============================] - 0s 13ms/step - loss: 7.7217e-04\n",
            "Epoch 19/50\n",
            "31/31 [==============================] - 0s 13ms/step - loss: 7.8051e-04\n",
            "Epoch 20/50\n",
            "31/31 [==============================] - 0s 13ms/step - loss: 7.5224e-04\n",
            "Epoch 21/50\n",
            "31/31 [==============================] - 0s 14ms/step - loss: 7.4481e-04\n",
            "Epoch 22/50\n",
            "31/31 [==============================] - 0s 9ms/step - loss: 7.9297e-04\n",
            "Epoch 23/50\n",
            "31/31 [==============================] - 0s 8ms/step - loss: 7.8649e-04\n",
            "Epoch 24/50\n",
            "31/31 [==============================] - 0s 8ms/step - loss: 7.8032e-04\n",
            "Epoch 25/50\n",
            "31/31 [==============================] - 0s 8ms/step - loss: 7.5354e-04\n",
            "Epoch 26/50\n",
            "31/31 [==============================] - 0s 8ms/step - loss: 7.3315e-04\n",
            "Epoch 27/50\n",
            "31/31 [==============================] - 0s 8ms/step - loss: 8.0648e-04\n",
            "Epoch 28/50\n",
            "31/31 [==============================] - 0s 8ms/step - loss: 7.2054e-04\n",
            "Epoch 29/50\n",
            "31/31 [==============================] - 0s 9ms/step - loss: 7.4480e-04\n",
            "Epoch 30/50\n",
            "31/31 [==============================] - 0s 9ms/step - loss: 7.1317e-04\n",
            "Epoch 31/50\n",
            "31/31 [==============================] - 0s 8ms/step - loss: 7.2596e-04\n",
            "Epoch 32/50\n",
            "31/31 [==============================] - 0s 8ms/step - loss: 7.6279e-04\n",
            "Epoch 33/50\n",
            "31/31 [==============================] - 0s 9ms/step - loss: 6.9402e-04\n",
            "Epoch 34/50\n",
            "31/31 [==============================] - 0s 9ms/step - loss: 7.1450e-04\n",
            "Epoch 35/50\n",
            "31/31 [==============================] - 0s 9ms/step - loss: 7.3221e-04\n",
            "Epoch 36/50\n",
            "31/31 [==============================] - 0s 8ms/step - loss: 7.4282e-04\n",
            "Epoch 37/50\n",
            "31/31 [==============================] - 0s 9ms/step - loss: 6.8451e-04\n",
            "Epoch 38/50\n",
            "31/31 [==============================] - 0s 8ms/step - loss: 7.0330e-04\n",
            "Epoch 39/50\n",
            "31/31 [==============================] - 0s 8ms/step - loss: 7.6576e-04\n",
            "Epoch 40/50\n",
            "31/31 [==============================] - 0s 8ms/step - loss: 6.7593e-04\n",
            "Epoch 41/50\n",
            "31/31 [==============================] - 0s 8ms/step - loss: 6.9142e-04\n",
            "Epoch 42/50\n",
            "31/31 [==============================] - 0s 8ms/step - loss: 6.9395e-04\n",
            "Epoch 43/50\n",
            "31/31 [==============================] - 0s 8ms/step - loss: 6.5148e-04\n",
            "Epoch 44/50\n",
            "31/31 [==============================] - 0s 8ms/step - loss: 6.5853e-04\n",
            "Epoch 45/50\n",
            "31/31 [==============================] - 0s 9ms/step - loss: 6.9614e-04\n",
            "Epoch 46/50\n",
            "31/31 [==============================] - 0s 9ms/step - loss: 6.3352e-04\n",
            "Epoch 47/50\n",
            "31/31 [==============================] - 0s 8ms/step - loss: 6.1457e-04\n",
            "Epoch 48/50\n",
            "31/31 [==============================] - 0s 9ms/step - loss: 6.6087e-04\n",
            "Epoch 49/50\n",
            "31/31 [==============================] - 0s 8ms/step - loss: 6.5183e-04\n",
            "Epoch 50/50\n",
            "31/31 [==============================] - 0s 9ms/step - loss: 6.8386e-04\n",
            "1/1 [==============================] - 1s 780ms/step\n"
          ]
        }
      ]
    },
    {
      "cell_type": "code",
      "source": [
        "test_price = test_data['Close'].values\n",
        "models = ['Moving Average', 'Linear Regression', 'k-Nearest Neighbors', 'Auto ARIMA', 'LSTM']\n",
        "predictions = [ma_predictions, lr_predictions, knn_predictions, arima_predictions, lstm_predictions]"
      ],
      "metadata": {
        "id": "QoK-cZyUysr4"
      },
      "execution_count": 65,
      "outputs": []
    },
    {
      "cell_type": "code",
      "source": [
        "for model, prediction in zip(models, predictions):\n",
        "    prediction = prediction[:len(test_price)].flatten()  # Adjust the length and shape of prediction\n",
        "    test_price = test_price[:len(prediction)]  # Adjust the length of test_price\n",
        "    mse = mean_squared_error(test_price, prediction)\n",
        "    rmse = np.sqrt(mse)\n",
        "    mape = np.mean(np.abs((test_price - prediction) / test_price)) * 100\n",
        "\n",
        "    # Print or store the evaluation metrics\n",
        "    print(f\"MSE: {mse}\")\n",
        "    print(f\"RMSE: {rmse}\")\n",
        "    print(f\"MAPE: {mape}\")"
      ],
      "metadata": {
        "colab": {
          "base_uri": "https://localhost:8080/"
        },
        "id": "uYKmgGXt2H1K",
        "outputId": "73486908-4449-4442-f927-23f49534555c"
      },
      "execution_count": 79,
      "outputs": [
        {
          "output_type": "stream",
          "name": "stdout",
          "text": [
            "MSE: 13236.844455186721\n",
            "RMSE: 115.05148610594615\n",
            "MAPE: 73.09772156197106\n",
            "MSE: 5416.265549583457\n",
            "RMSE: 73.59528211497974\n",
            "MAPE: 47.793875192321586\n",
            "MSE: 13244.422658506224\n",
            "RMSE: 115.08441535892783\n",
            "MAPE: 73.16592856888836\n",
            "MSE: 140.10796186978814\n",
            "RMSE: 11.836720908671799\n",
            "MAPE: 6.762349975217726\n",
            "MSE: 16.045540171265692\n",
            "RMSE: 4.005688476562511\n",
            "MAPE: 2.498869916757649\n"
          ]
        }
      ]
    },
    {
      "cell_type": "code",
      "source": [],
      "metadata": {
        "id": "V-Ltk-0X2Knj"
      },
      "execution_count": 79,
      "outputs": []
    },
    {
      "cell_type": "code",
      "source": [
        "from sklearn.metrics import mean_squared_error\n",
        "import numpy as np\n",
        "\n",
        "# Calculate evaluation metrics for each model\n",
        "evaluation_metrics = []\n",
        "for model, prediction in zip(models, predictions):\n",
        "    prediction = prediction[:len(test_price)].flatten()  # Adjust the length and shape of prediction\n",
        "    mse = mean_squared_error(test_price, prediction)\n",
        "    rmse = np.sqrt(mse)\n",
        "    mape = np.mean(np.abs((test_price - prediction) / test_price)) * 100\n",
        "    evaluation_metrics.append((mse, rmse, mape))\n",
        "\n",
        "# Print evaluation metrics for each model\n",
        "for i, (model, prediction) in enumerate(zip(models, predictions)):\n",
        "    print(f\"Model {i+1} Evaluation Metrics:\")\n",
        "    print(\"MSE:\", evaluation_metrics[i][0])\n",
        "    print(\"RMSE:\", evaluation_metrics[i][1])\n",
        "    print(\"MAPE:\", evaluation_metrics[i][2])\n",
        "    print()\n",
        "\n",
        "# Compare the models and identify the best performer\n",
        "best_model_index = np.argmin([metric[0] for metric in evaluation_metrics])\n",
        "best_model = models[best_model_index]\n",
        "best_prediction = predictions[best_model_index]\n",
        "\n",
        "# Make conclusions and recommendations based on the evaluation\n",
        "print(\"Best Model Evaluation Metrics:\")\n",
        "print(\"MSE:\", evaluation_metrics[best_model_index][0])\n",
        "print(\"RMSE:\", evaluation_metrics[best_model_index][1])\n",
        "print(\"MAPE:\", evaluation_metrics[best_model_index][2])\n",
        "print()\n",
        "print(\"Recommendation: Model\", best_model_index+1, \"performed the best.\")"
      ],
      "metadata": {
        "colab": {
          "base_uri": "https://localhost:8080/"
        },
        "id": "ZxDnyfKQ2Mqw",
        "outputId": "a9e4d60a-b56d-4d51-feda-2502c8057b9d"
      },
      "execution_count": 80,
      "outputs": [
        {
          "output_type": "stream",
          "name": "stdout",
          "text": [
            "Model 1 Evaluation Metrics:\n",
            "MSE: 4048.7768999999994\n",
            "RMSE: 63.629999999999995\n",
            "MAPE: 39.6943231441048\n",
            "\n",
            "Model 2 Evaluation Metrics:\n",
            "MSE: 6901.691436321516\n",
            "RMSE: 83.07641925553554\n",
            "MAPE: 51.82558905523115\n",
            "\n",
            "Model 3 Evaluation Metrics:\n",
            "MSE: 3589.208099999996\n",
            "RMSE: 59.90999999999997\n",
            "MAPE: 37.3736743605739\n",
            "\n",
            "Model 4 Evaluation Metrics:\n",
            "MSE: 0.8873306939400439\n",
            "RMSE: 0.9419823214583403\n",
            "MAPE: 0.5876371312902934\n",
            "\n",
            "Model 5 Evaluation Metrics:\n",
            "MSE: 16.045540171265692\n",
            "RMSE: 4.005688476562511\n",
            "MAPE: 2.498869916757649\n",
            "\n",
            "Best Model Evaluation Metrics:\n",
            "MSE: 0.8873306939400439\n",
            "RMSE: 0.9419823214583403\n",
            "MAPE: 0.5876371312902934\n",
            "\n",
            "Recommendation: Model 4 performed the best.\n"
          ]
        }
      ]
    },
    {
      "cell_type": "code",
      "source": [],
      "metadata": {
        "id": "pL6PSKW74dFZ"
      },
      "execution_count": 81,
      "outputs": []
    },
    {
      "cell_type": "code",
      "source": [],
      "metadata": {
        "id": "o3xF-w8c5wBM"
      },
      "execution_count": null,
      "outputs": []
    }
  ]
}